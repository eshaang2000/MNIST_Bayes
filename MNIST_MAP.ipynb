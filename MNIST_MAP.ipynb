{
  "nbformat": 4,
  "nbformat_minor": 0,
  "metadata": {
    "colab": {
      "name": "MNIST_MAP.ipynb",
      "provenance": []
    },
    "kernelspec": {
      "name": "python3",
      "display_name": "Python 3"
    },
    "language_info": {
      "name": "python"
    }
  },
  "cells": [
    {
      "cell_type": "code",
      "metadata": {
        "colab": {
          "base_uri": "https://localhost:8080/",
          "height": 137,
          "referenced_widgets": [
            "910764f4d2f94de59e4de7393fc36a61"
          ]
        },
        "id": "oUPysA9BoJci",
        "outputId": "55597328-cf3e-4d85-972f-2aa452326b2a"
      },
      "source": [
        "import numpy as np\n",
        "import torch\n",
        "import torchvision\n",
        "from torchvision import datasets\n",
        "from torchvision import transforms\n",
        "from sklearn.model_selection import train_test_split\n",
        "\n",
        "import matplotlib.pyplot as plt\n",
        "\n",
        "# import pyprobml_utils as pml\n",
        "\n",
        "data_transform = torchvision.transforms.Compose([\n",
        "    torchvision.transforms.ToTensor()])\n",
        "\n",
        "def get_data(data, indices=None, binarize=True):\n",
        "  N = len(data)\n",
        "  if indices is None:\n",
        "    indices = range(0, N)\n",
        "  #X = torch.stack([data[i][0] for i in indices], dim=1).squeeze(0) # (N,28,28)\n",
        "  X = np.stack([data[i][0].numpy() for i in indices], axis=1).squeeze(0) # (N,28,28)\n",
        "  if binarize: X = (X > 0.5)\n",
        "  #y = torch.tensor([data[i][1] for i in indices])\n",
        "  y = np.array([data[i][1] for i in indices])\n",
        "  return X, y\n",
        "\n",
        "data = datasets.EMNIST(\n",
        "    root=\"~/data\",\n",
        "    split=\"balanced\",\n",
        "    download=True,\n",
        "    transform=data_transform\n",
        ")\n",
        "\n",
        "X, y = get_data(data)\n",
        "\n",
        "import sklearn.metrics"
      ],
      "execution_count": null,
      "outputs": [
        {
          "output_type": "stream",
          "name": "stdout",
          "text": [
            "Downloading https://www.itl.nist.gov/iaui/vip/cs_links/EMNIST/gzip.zip to /root/data/EMNIST/raw/gzip.zip\n"
          ]
        },
        {
          "output_type": "display_data",
          "data": {
            "application/vnd.jupyter.widget-view+json": {
              "model_id": "910764f4d2f94de59e4de7393fc36a61",
              "version_minor": 0,
              "version_major": 2
            },
            "text/plain": [
              "  0%|          | 0/561753746 [00:00<?, ?it/s]"
            ]
          },
          "metadata": {}
        },
        {
          "output_type": "stream",
          "name": "stdout",
          "text": [
            "Extracting /root/data/EMNIST/raw/gzip.zip to /root/data/EMNIST/raw\n"
          ]
        },
        {
          "output_type": "stream",
          "name": "stderr",
          "text": [
            "/usr/local/lib/python3.7/dist-packages/torchvision/datasets/mnist.py:498: UserWarning: The given NumPy array is not writeable, and PyTorch does not support non-writeable tensors. This means you can write to the underlying (supposedly non-writeable) NumPy array using the tensor. You may want to copy the array to protect its data or make it writeable before converting it to a tensor. This type of warning will be suppressed for the rest of this program. (Triggered internally at  /pytorch/torch/csrc/utils/tensor_numpy.cpp:180.)\n",
            "  return torch.from_numpy(parsed.astype(m[2], copy=False)).view(*s)\n"
          ]
        }
      ]
    },
    {
      "cell_type": "code",
      "metadata": {
        "id": "OINcFHncoPSj"
      },
      "source": [
        "X_train, X_test, y_train, y_test = train_test_split(\n",
        "    X, y, test_size=0.90, random_state=0)"
      ],
      "execution_count": null,
      "outputs": []
    },
    {
      "cell_type": "code",
      "metadata": {
        "id": "h87NC-ncoSOy"
      },
      "source": [
        "from sklearn.base import BaseEstimator\n",
        "import numpy as np\n",
        "import matplotlib.pyplot as plt\n",
        "import math\n",
        "alpha = 1\n",
        "# alpha = [0]*47\n",
        "# for i in range(len(alpha)):\n",
        "#   alpha[i]=i"
      ],
      "execution_count": null,
      "outputs": []
    },
    {
      "cell_type": "code",
      "metadata": {
        "id": "ftucFicGoWE4"
      },
      "source": [
        "# we are attempting to write a MLE extatom\n",
        "class MAPBayes(BaseEstimator):\n",
        "  def fit(self, X, y):\n",
        "    #we first calculate P(y) - that is just done by counting methods\n",
        "    y_freq = dict()\n",
        "    for i in y: # go through all values in y\n",
        "      y_freq[i] = y_freq.get(i, 0)+1\n",
        "    n = len(y) # total number of samples in y\n",
        "\n",
        "    self.y_prob = dict()# calculate the prob for each y\n",
        "\n",
        "    for i in y_freq:\n",
        "      self.y_prob[i] = (y_freq[i]+alpha-1)/(n+(len(y_freq)*(alpha-1))) # this is the dicitionary that holds all the probs for y indexed using the class itself\n",
        "\n",
        "    \n",
        "    # we make a collection of x_ij\n",
        "    self.labelDict = dict()\n",
        "    for j in range(len(X)):\n",
        "      if y[j] not in self.labelDict:\n",
        "        self.labelDict[y[j]] = []\n",
        "      self.labelDict.get(y[j]).append(X[j]) # add all \n",
        "    \n",
        "    # print(self.labelDict[y[j]])\n",
        "    self.x_ij = dict() #prob x given y key being y\n",
        "\n",
        "    for i in self.labelDict:\n",
        "      samples = self.labelDict[i] # get all the samples of eeach class. After all we are conditioning on it\n",
        "\n",
        "      p_matrix = np.zeros((len(X[0])**2)) # this is the probabilty this for those sampls\n",
        "\n",
        "      for j in samples: # go thorugh all the samples\n",
        "        b = np.reshape(j, (len(j)**2)) # change the sample into something linear\n",
        "\n",
        "        for k in range(len(b)): # go through the linear thing\n",
        "          if b[k] == True:\n",
        "            p_matrix[k]+=1 # sample fot loop ends\n",
        "\n",
        "      for k in range(len(p_matrix)): # final probability # salting with alpha\n",
        "        p_matrix[k]+=1\n",
        "        p_matrix[k] = p_matrix[k]/(1+len(samples))\n",
        "        # p_matrix[k]\n",
        "\n",
        "      self.x_ij[i] = p_matrix# done for label i\n",
        "    print(len(self.x_ij))\n",
        "    \n",
        "    print(\"Training complete\")\n",
        "\n",
        "  def max_index(self, number_list):\n",
        "    max_value = max(number_list)\n",
        "  # Return the max value of the list\n",
        "    max_index = number_list.index(max_value)\n",
        "    return max_index\n",
        "\n",
        "  def bayes_pred(self, xv):\n",
        "    # plt.imshow((np.reshape(xv, (28, 28))), interpolation='nearest') # we see we can generate some sick picture\n",
        "    # plt.show()\n",
        "    y_bar = [0]*len(self.labelDict)\n",
        "    for i in self.labelDict:# go through all the labels\n",
        "\n",
        "      py = self.y_prob[i]\n",
        "      ans = 0\n",
        "      for j in range(len(xv)):\n",
        "        if xv[j] == True:\n",
        "          if self.x_ij[i][j] < 0:\n",
        "            continue\n",
        "          ans+=math.log(self.x_ij[i][j])\n",
        "        else:\n",
        "          if self.x_ij[i][j] >= 1:\n",
        "            continue\n",
        "          ans+=math.log(1-self.x_ij[i][j])\n",
        "      ans+=math.log(py)\n",
        "      y_bar[i]=ans\n",
        "    re = self.max_index(y_bar)\n",
        "    return re\n",
        "    # return y_bar\n",
        "\n",
        "  def bayes_pred_score(self, xv):\n",
        "    # plt.imshow((np.reshape(xv, (28, 28))), interpolation='nearest') # we see we can generate some sick picture\n",
        "    # plt.show()\n",
        "    y_bar = [0]*len(self.labelDict)\n",
        "    for i in self.labelDict:# go through all the labels\n",
        "      py = self.y_prob[i]\n",
        "      ans = 0\n",
        "      for j in range(len(xv)):\n",
        "        if xv[j] == True:\n",
        "          if self.x_ij[i][j] < 0:\n",
        "            continue\n",
        "          ans+=math.log(self.x_ij[i][j])\n",
        "        else:\n",
        "          if self.x_ij[i][j] >= 1:\n",
        "            continue\n",
        "          ans+=math.log(1-self.x_ij[i][j])\n",
        "      ans+=math.log(py)\n",
        "      y_bar[i]=ans\n",
        "    # re = self.max_index(y_bar)\n",
        "    return y_bar\n",
        "\n",
        "  \n",
        "  def score(self, X_test, y_test):\n",
        "    score = 0\n",
        "    y_predict = []\n",
        "    k = 0\n",
        "    for i in X_test:\n",
        "      # convert into something you can understand\n",
        "      something = np.reshape(i, (len(i)**2))\n",
        "      please = self.bayes_pred(something)\n",
        "      score+=please[y_test[k]]\n",
        "      \n",
        "      k+=1\n",
        "      # if please == y_test[k]:\n",
        "      #   score+=1\n",
        "      # # score+=please[y_test[k]]\n",
        "      # k+=1\n",
        "      # y_predict.append(self.bayes_pred(something))\n",
        "      # y_predict.append(self.bayes_pred(something))\n",
        "    return score/len(y_test)\n",
        "\n",
        "\n",
        "  def predict(self, X_test):\n",
        "    # plt.imshow((np.reshape(mle.x_ij[0], (28, 28))), interpolation='nearest') # we see we can generate some sick picture\n",
        "    plt.show()\n",
        "    y_predict = []\n",
        "    for i in X_test:\n",
        "      # convert into something you can understand\n",
        "      something = np.reshape(i, (len(i)**2))\n",
        "      y_predict.append(self.bayes_pred(something))\n",
        "    return y_predict"
      ],
      "execution_count": null,
      "outputs": []
    },
    {
      "cell_type": "code",
      "metadata": {
        "colab": {
          "base_uri": "https://localhost:8080/"
        },
        "id": "E0sfjqRmoZB6",
        "outputId": "69e02a25-69de-471f-87b5-fe8d7d518264"
      },
      "source": [
        "map = MAPBayes()\n",
        "map.fit(X_train, y_train)"
      ],
      "execution_count": null,
      "outputs": [
        {
          "output_type": "stream",
          "name": "stdout",
          "text": [
            "47\n",
            "Training complete\n"
          ]
        }
      ]
    }
  ]
}